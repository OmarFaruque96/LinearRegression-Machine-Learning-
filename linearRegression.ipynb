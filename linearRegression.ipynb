import numpy as np
import pandas as pd

test_dataset = pd.read_csv("test.csv");
train_dataset = pd.read_csv("train.csv");

#train set data split
x = train_dataset.iloc[:,0].values
y = train_dataset.iloc[:,1].values

#test set data split
xT = test_dataset.iloc[:,0].values
yT = test_dataset.iloc[:,1].values

x_size = xT.shape[0]
y_size = yT.shape[0]


def find_b0_b1(x, y): 
    n = np.size(x) 
  
    m_x, m_y = np.mean(x), np.mean(y) 
  
    SS_xy = np.sum(y*x) - n*m_y*m_x 
    SS_xx = np.sum(x*x) - n*m_x*m_x 
  
    b_1 = SS_xy / SS_xx 
    b_0 = m_y - b_1*m_x 
  
    return(b_0, b_1)

b = find_b0_b1(x,y )
print(b)

Total_error = 0

for i in range(x_size):
    
    experimental_result = b[0] + b[1] * xT[i]
 
    Total_error = Total_error + ((experimental_result - yT[i])**2)
    

n_of_y = np.size(yT)

prefix = (1.0/(2*n_of_y))

err =  prefix * Total_error

print(err)